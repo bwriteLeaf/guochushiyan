{
 "cells": [
  {
   "cell_type": "code",
   "execution_count": 2,
   "metadata": {
    "collapsed": true
   },
   "outputs": [
    {
     "name": "stdout",
     "output_type": "stream",
     "text": [
      "data: [[  nan   nan   nan ...,   nan   nan   nan]\n [-0.3   1.71  0.3  ...,  0.55  0.55  1.38]\n [ 1.38 -0.3   1.71 ...,  0.73  0.55 -0.26]\n ..., \n [ 1.64 -0.21 -1.89 ...,  0.07  0.99  1.8 ]\n [ 1.8   1.64 -0.21 ...,  2.28  0.07 -0.16]\n [-0.16  1.8   1.64 ...,  1.22  2.28 -0.7 ]]\nX: [[-0.3   1.71  0.3  ...,  0.73  0.55  0.55]\n [ 1.38 -0.3   1.71 ..., -1.55  0.73  0.55]\n [-0.26  1.38 -0.3  ..., -0.06 -1.55  0.73]\n ..., \n [ 1.64 -0.21 -1.89 ...,  2.28  0.07  0.99]\n [ 1.8   1.64 -0.21 ...,  1.22  2.28  0.07]\n [-0.16  1.8   1.64 ..., -1.87  1.22  2.28]]\nY: [  1.38000000e+00  -2.60000000e-01   1.44000000e+00  -1.26000000e+00\n  -1.34000000e+00   4.40000000e-01   1.76000000e+00  -6.40000000e-01\n   5.50000000e-01   1.88000000e+00   1.23000000e+00   4.50000000e-01\n  -3.10000000e-01  -5.60000000e-01  -2.04000000e+00  -1.20000000e-01\n  -1.00000000e-01  -5.40000000e-01   2.54000000e+00   6.30000000e-01\n   8.40000000e-01   1.32000000e+00   1.28000000e+00   1.42000000e+00\n   2.08000000e+00  -3.13000000e+00  -9.10000000e-01   9.00000000e-02\n   8.80000000e-01   3.57000000e+00   1.93000000e+00   2.04000000e+00\n   2.10000000e+00   4.00000000e-01  -1.33000000e+00  -3.16000000e+00\n  -1.80000000e+00  -1.11000000e+00   2.11000000e+00  -2.98000000e+00\n  -4.11000000e+00   1.58000000e+00   1.46000000e+00  -2.41000000e+00\n   1.53000000e+00   2.68000000e+00   1.08000000e+00   8.10000000e-01\n  -1.66000000e+00  -9.10000000e-01   1.70000000e+00   3.52000000e+00\n   1.47000000e+00   1.47000000e+00   1.68000000e+00  -5.90000000e-01\n  -3.40000000e-01   2.80000000e-01  -3.79000000e+00   1.46000000e+00\n  -5.70000000e-01  -1.90000000e+00  -1.20000000e-01  -2.64000000e+00\n   2.82000000e+00   3.28000000e+00  -9.00000000e-02   2.53000000e+00\n   2.87000000e+00  -8.70000000e-01   2.06000000e+00  -1.22000000e+00\n  -1.63000000e+00   2.10000000e+00   2.04000000e+00   3.31000000e+00\n  -7.00000000e-02   1.58000000e+00   2.18000000e+00  -3.87000000e+00\n  -8.70000000e-01   2.36000000e+00  -1.70000000e-01  -2.98000000e+00\n  -4.00000000e-02  -7.00000000e-01  -1.18000000e+00  -8.10000000e-01\n  -1.65000000e+00  -1.68000000e+00   1.41000000e+00  -6.30000000e-01\n   2.03000000e+00   4.90000000e-01  -2.19000000e+00   1.72000000e+00\n   3.55000000e+00   3.40000000e-01   3.08000000e+00   2.00000000e-01\n  -4.30000000e-01  -3.54000000e+00  -3.68000000e+00   2.03000000e+00\n   8.90000000e-01  -1.39000000e+00   1.79000000e+00  -4.90000000e-01\n   3.90000000e+00   9.80000000e-01   1.85000000e+00   3.29000000e+00\n  -1.00000000e-02  -6.00000000e-02  -5.50000000e-01  -2.47000000e+00\n   1.59000000e+00   7.90000000e-01   8.00000000e-02  -2.09000000e+00\n   5.00000000e-01   2.68000000e+00   2.14000000e+00   4.80000000e-01\n  -1.49000000e+00   3.00000000e-01   9.70000000e-01   5.30000000e-01\n  -3.67000000e+00   4.10000000e-01  -2.38000000e+00  -2.54000000e+00\n  -3.44000000e+00  -2.37000000e+00   6.10000000e-01  -2.44000000e+00\n  -1.28000000e+00  -1.30000000e-01   1.76000000e+00  -1.57000000e+00\n   1.35000000e+00  -2.37000000e+00   1.86000000e+00   2.67000000e+00\n   2.50000000e-01  -4.10000000e-01   9.20000000e-01  -2.07000000e+00\n  -4.02000000e+00  -2.62000000e+00  -2.64000000e+00   2.76000000e+00\n   2.85000000e+00   1.90000000e+00  -5.40000000e-01   1.61000000e+00\n   1.60000000e+00  -8.10000000e-01  -2.92000000e+00   1.45000000e+00\n   4.98000000e+00   4.50000000e-01  -2.23000000e+00   4.30000000e-01\n   2.56000000e+00  -1.79000000e+00  -1.89000000e+00   1.71000000e+00\n   1.68000000e+00  -1.35000000e+00   1.96000000e+00   7.60000000e-01\n   2.18000000e+00   4.00000000e-01   2.55000000e+00   1.02000000e+00\n   2.14000000e+00   3.20000000e-01   1.52000000e+00  -4.84000000e+00\n   1.20000000e-01  -1.91000000e+00   2.77000000e+00   3.03000000e+00\n   3.01000000e+00   2.83000000e+00  -7.30000000e-01  -4.80000000e-01\n   8.90000000e-01   6.37000000e+00   6.10000000e-01   5.12000000e+00\n   2.20000000e+00  -2.09000000e+00   3.36000000e+00  -4.55000000e+00\n  -3.76000000e+00   2.43000000e+00   1.90000000e-01   4.33000000e+00\n   2.49000000e+00  -3.47000000e+00  -3.17000000e+00  -2.29000000e+00\n   1.89000000e+00  -2.04000000e+00   5.03000000e+00   5.33000000e+00\n   1.39000000e+00   2.58000000e+00   6.00000000e+00  -4.06000000e+00\n  -1.12000000e+00  -7.50000000e-01   6.25000000e+00   4.67000000e+00\n   3.54000000e+00  -2.61000000e+00   7.66000000e+00   1.93000000e+00\n   5.53000000e+00  -2.00000000e+00  -3.20000000e-01   6.59000000e+00\n  -3.60000000e-01   3.26000000e+00   4.83000000e+00  -2.42000000e+00\n  -4.70000000e+00  -8.90000000e+00  -1.87000000e+00  -5.69000000e+00\n  -4.43000000e+00   1.18000000e+00   4.90000000e-01  -7.82000000e+00\n  -5.45000000e+00  -5.56000000e+00   1.23400000e+01  -1.29500000e+01\n  -1.04600000e+01  -1.10100000e+01  -6.43000000e+00  -3.34000000e+00\n  -1.13000000e+00  -5.67000000e+00  -6.14000000e+00   1.04000000e+00\n  -8.04000000e+00  -7.90000000e-01  -5.06000000e+00  -1.66000000e+00\n   4.51000000e+00   2.01000000e+00  -7.60000000e+00   6.20000000e+00\n  -5.90000000e-01  -2.02000000e+00  -3.59000000e+00   8.00000000e-02\n   5.19000000e+00   1.08000000e+00   2.42000000e+00   3.78000000e+00\n   3.99000000e+00  -3.13000000e+00   1.40000000e-01  -6.60000000e-01\n  -1.32000000e+00   2.59000000e+00   4.93000000e+00   2.07000000e+00\n   2.62000000e+00   3.63000000e+00   3.78000000e+00   2.73000000e+00\n  -2.20000000e-01  -1.76000000e+00   5.10000000e-01  -7.88000000e+00\n  -2.10000000e-01   4.59000000e+00   1.21000000e+00   4.50000000e+00\n  -1.92000000e+00   1.31000000e+00   1.66000000e+00  -4.21000000e+00\n   2.50000000e+00   4.50000000e-01  -2.93000000e+00   5.60000000e-01\n   1.87000000e+00   4.88000000e+00   4.61000000e+00  -1.84000000e+00\n   5.30000000e-01  -8.30000000e-01   1.50000000e-01  -1.46000000e+00\n  -6.00000000e-02  -5.31000000e+00   2.40000000e-01   3.63000000e+00\n   3.67000000e+00   3.30000000e+00  -2.30000000e+00  -3.25000000e+00\n  -2.79000000e+00   5.60000000e-01  -6.80000000e-01   4.39000000e+00\n   1.07000000e+00   8.20000000e-01   1.57000000e+00  -3.00000000e-01\n  -6.00000000e-01   2.43000000e+00   2.64000000e+00  -1.33000000e+00\n  -1.12000000e+00   7.60000000e-01  -4.02000000e+00  -5.25000000e+00\n  -5.49000000e+00   2.32000000e+00   1.09000000e+00   5.20000000e-01\n   3.33000000e+00   6.10000000e-01  -2.37000000e+00  -5.80000000e-01\n   1.95000000e+00   1.41000000e+00   4.00000000e-01   3.65000000e+00\n  -3.63000000e+00  -3.32000000e+00  -1.70000000e+00   8.70000000e-01\n   8.40000000e-01   7.80000000e-01  -7.00000000e-01   3.47000000e+00\n   3.95000000e+00  -3.10000000e-01  -7.40000000e-01   8.00000000e-01\n   2.86000000e+00   1.88000000e+00  -4.66000000e+00   4.50000000e-01\n   4.11000000e+00   1.74000000e+00  -2.50000000e-01   1.91000000e+00\n   8.10000000e-01  -1.44000000e+00   1.50000000e+00  -9.80000000e-01\n  -2.78000000e+00   3.41000000e+00  -3.99000000e+00  -1.35000000e+00\n   1.13700000e+01   4.32000000e+00   2.71000000e+00  -3.97000000e+00\n   4.85000000e+00   9.20000000e-01   4.21000000e+00  -1.54000000e+00\n   1.54000000e+00   3.06000000e+00  -6.65000000e+00  -5.51000000e+00\n  -2.19000000e+00   1.43000000e+00   1.01000000e+00  -8.90000000e-01\n  -4.12000000e+00  -3.04000000e+00   8.80000000e-01   3.37000000e+00\n  -3.90000000e-01   1.40000000e+00  -2.40000000e-01  -7.05000000e+00\n  -7.90000000e+00   2.43000000e+00  -2.70000000e-01   2.99000000e+00\n  -1.60000000e-01   1.02000000e+00  -5.16000000e+00  -2.32000000e+00\n  -1.74000000e+00   5.85000000e+00   1.15000000e+00   5.67000000e+00\n   8.60000000e-01   3.73000000e+00   2.30000000e+00  -2.30000000e+00\n   2.93000000e+00   2.00000000e-01  -4.05000000e+00   1.75000000e+00\n   2.00000000e+00   2.59000000e+00  -1.95000000e+00  -4.00000000e-01\n  -6.00000000e-01  -1.63000000e+00   7.00000000e-01   3.29000000e+00\n   5.63000000e+00   1.10000000e-01  -1.23000000e+00  -1.80000000e-01\n   5.10000000e-01  -1.53000000e+00  -1.60000000e+00  -9.80000000e-01\n   4.90000000e-01   1.03000000e+00  -5.90000000e-01  -6.47000000e+00\n  -3.87000000e+00  -1.99000000e+00  -4.04000000e+00  -2.65000000e+00\n  -1.12000000e+00  -1.91000000e+00  -1.12000000e+00   5.48000000e+00\n   1.00000000e-02   4.54000000e+00  -1.29000000e+00   3.00000000e-02\n   4.03000000e+00   1.33000000e+00   2.05000000e+00  -7.90000000e-01\n  -3.00000000e-02   1.96000000e+00  -3.88000000e+00  -2.27000000e+00\n  -6.40000000e-01   5.60000000e-01   2.60000000e-01  -4.95000000e+00\n  -8.10000000e-01   1.10000000e-01  -1.10000000e-01   2.04000000e+00\n  -2.40000000e-01  -1.50000000e-01  -1.38000000e+00   2.54000000e+00\n   1.63000000e+00   2.42000000e+00   6.20000000e-01   1.18000000e+00\n   1.29000000e+00   1.61000000e+00  -1.24000000e+00   7.40000000e-01\n  -2.67000000e+00  -2.02000000e+00  -1.27000000e+00   1.74000000e+00\n   2.80000000e-01   3.24000000e+00  -1.31000000e+00  -1.53000000e+00\n  -5.43000000e+00   3.23000000e+00   2.52000000e+00   2.45000000e+00\n  -1.20000000e+00   1.40000000e-01  -1.68000000e+00   8.30000000e-01\n   2.05000000e+00   4.00000000e-01  -7.90000000e-01   4.59000000e+00\n   4.30000000e+00   2.17000000e+00  -1.04000000e+00  -4.40000000e-01\n  -3.80000000e-01   1.80000000e+00  -1.45000000e+00   2.83000000e+00\n   3.70000000e-01  -4.10000000e-01  -2.03000000e+00  -3.17000000e+00\n   6.00000000e-02  -4.90000000e-01  -1.15000000e+00  -3.71000000e+00\n  -8.40000000e-01  -2.61000000e+00  -3.90000000e-01   7.00000000e-02\n  -8.00000000e-01   3.22000000e+00   1.06000000e+00   6.40000000e-01\n   1.38000000e+00  -2.72000000e+00  -4.02000000e+00   6.20000000e-01\n   3.04000000e+00   8.20000000e-01   5.00000000e-01   2.46000000e+00\n   2.52000000e+00  -2.70000000e-01   3.20000000e-01  -3.52000000e+00\n   1.60000000e-01   9.90000000e-01   7.00000000e-02   2.28000000e+00\n   1.22000000e+00  -1.87000000e+00  -1.89000000e+00  -2.10000000e-01\n   1.64000000e+00   1.80000000e+00  -1.60000000e-01  -7.00000000e-01]\n"
     ]
    },
    {
     "name": "stdout",
     "output_type": "stream",
     "text": [
      "coefficients: [ 0.1890249   0.01974564 -0.00976762  0.03666562  0.02590676  0.02619397\n -0.00377285  0.16312961]\nintercept: 0.0687652667874\n"
     ]
    },
    {
     "ename": "ValueError",
     "evalue": "Expected 2D array, got 1D array instead:\narray=[102   6].\nReshape your data either using array.reshape(-1, 1) if your data has a single feature or array.reshape(1, -1) if it contains a single sample.",
     "traceback": [
      "\u001b[1;31m---------------------------------------------------------------------------\u001b[0m",
      "\u001b[1;31mValueError\u001b[0m                                Traceback (most recent call last)",
      "\u001b[1;32m<ipython-input-2-edbbf69b025f>\u001b[0m in \u001b[0;36m<module>\u001b[1;34m()\u001b[0m\n\u001b[0;32m     20\u001b[0m \u001b[1;33m\u001b[0m\u001b[0m\n\u001b[0;32m     21\u001b[0m \u001b[0mx_pre\u001b[0m \u001b[1;33m=\u001b[0m \u001b[1;33m[\u001b[0m\u001b[1;36m102\u001b[0m\u001b[1;33m,\u001b[0m\u001b[1;36m6\u001b[0m\u001b[1;33m]\u001b[0m\u001b[1;33m\u001b[0m\u001b[0m\n\u001b[1;32m---> 22\u001b[1;33m \u001b[0my_pre\u001b[0m \u001b[1;33m=\u001b[0m \u001b[0mregr\u001b[0m\u001b[1;33m.\u001b[0m\u001b[0mpredict\u001b[0m\u001b[1;33m(\u001b[0m\u001b[0mx_pre\u001b[0m\u001b[1;33m)\u001b[0m\u001b[1;33m\u001b[0m\u001b[0m\n\u001b[0m\u001b[0;32m     23\u001b[0m \u001b[0mprint\u001b[0m\u001b[1;33m(\u001b[0m \u001b[1;34m\"Y-Predict:\"\u001b[0m\u001b[1;33m,\u001b[0m\u001b[0my_pre\u001b[0m  \u001b[1;33m)\u001b[0m\u001b[1;33m\u001b[0m\u001b[0m\n",
      "\u001b[1;32mD:\\Applications\\anaconda\\lib\\site-packages\\sklearn\\linear_model\\base.py\u001b[0m in \u001b[0;36mpredict\u001b[1;34m(self, X)\u001b[0m\n\u001b[0;32m    254\u001b[0m             \u001b[0mReturns\u001b[0m \u001b[0mpredicted\u001b[0m \u001b[0mvalues\u001b[0m\u001b[1;33m.\u001b[0m\u001b[1;33m\u001b[0m\u001b[0m\n\u001b[0;32m    255\u001b[0m         \"\"\"\n\u001b[1;32m--> 256\u001b[1;33m         \u001b[1;32mreturn\u001b[0m \u001b[0mself\u001b[0m\u001b[1;33m.\u001b[0m\u001b[0m_decision_function\u001b[0m\u001b[1;33m(\u001b[0m\u001b[0mX\u001b[0m\u001b[1;33m)\u001b[0m\u001b[1;33m\u001b[0m\u001b[0m\n\u001b[0m\u001b[0;32m    257\u001b[0m \u001b[1;33m\u001b[0m\u001b[0m\n\u001b[0;32m    258\u001b[0m     \u001b[0m_preprocess_data\u001b[0m \u001b[1;33m=\u001b[0m \u001b[0mstaticmethod\u001b[0m\u001b[1;33m(\u001b[0m\u001b[0m_preprocess_data\u001b[0m\u001b[1;33m)\u001b[0m\u001b[1;33m\u001b[0m\u001b[0m\n",
      "\u001b[1;32mD:\\Applications\\anaconda\\lib\\site-packages\\sklearn\\linear_model\\base.py\u001b[0m in \u001b[0;36m_decision_function\u001b[1;34m(self, X)\u001b[0m\n\u001b[0;32m    237\u001b[0m         \u001b[0mcheck_is_fitted\u001b[0m\u001b[1;33m(\u001b[0m\u001b[0mself\u001b[0m\u001b[1;33m,\u001b[0m \u001b[1;34m\"coef_\"\u001b[0m\u001b[1;33m)\u001b[0m\u001b[1;33m\u001b[0m\u001b[0m\n\u001b[0;32m    238\u001b[0m \u001b[1;33m\u001b[0m\u001b[0m\n\u001b[1;32m--> 239\u001b[1;33m         \u001b[0mX\u001b[0m \u001b[1;33m=\u001b[0m \u001b[0mcheck_array\u001b[0m\u001b[1;33m(\u001b[0m\u001b[0mX\u001b[0m\u001b[1;33m,\u001b[0m \u001b[0maccept_sparse\u001b[0m\u001b[1;33m=\u001b[0m\u001b[1;33m[\u001b[0m\u001b[1;34m'csr'\u001b[0m\u001b[1;33m,\u001b[0m \u001b[1;34m'csc'\u001b[0m\u001b[1;33m,\u001b[0m \u001b[1;34m'coo'\u001b[0m\u001b[1;33m]\u001b[0m\u001b[1;33m)\u001b[0m\u001b[1;33m\u001b[0m\u001b[0m\n\u001b[0m\u001b[0;32m    240\u001b[0m         return safe_sparse_dot(X, self.coef_.T,\n\u001b[0;32m    241\u001b[0m                                dense_output=True) + self.intercept_\n",
      "\u001b[1;32mD:\\Applications\\anaconda\\lib\\site-packages\\sklearn\\utils\\validation.py\u001b[0m in \u001b[0;36mcheck_array\u001b[1;34m(array, accept_sparse, dtype, order, copy, force_all_finite, ensure_2d, allow_nd, ensure_min_samples, ensure_min_features, warn_on_dtype, estimator)\u001b[0m\n\u001b[0;32m    439\u001b[0m                     \u001b[1;34m\"Reshape your data either using array.reshape(-1, 1) if \"\u001b[0m\u001b[1;33m\u001b[0m\u001b[0m\n\u001b[0;32m    440\u001b[0m                     \u001b[1;34m\"your data has a single feature or array.reshape(1, -1) \"\u001b[0m\u001b[1;33m\u001b[0m\u001b[0m\n\u001b[1;32m--> 441\u001b[1;33m                     \"if it contains a single sample.\".format(array))\n\u001b[0m\u001b[0;32m    442\u001b[0m             \u001b[0marray\u001b[0m \u001b[1;33m=\u001b[0m \u001b[0mnp\u001b[0m\u001b[1;33m.\u001b[0m\u001b[0matleast_2d\u001b[0m\u001b[1;33m(\u001b[0m\u001b[0marray\u001b[0m\u001b[1;33m)\u001b[0m\u001b[1;33m\u001b[0m\u001b[0m\n\u001b[0;32m    443\u001b[0m             \u001b[1;31m# To ensure that array flags are maintained\u001b[0m\u001b[1;33m\u001b[0m\u001b[1;33m\u001b[0m\u001b[0m\n",
      "\u001b[1;31mValueError\u001b[0m: Expected 2D array, got 1D array instead:\narray=[102   6].\nReshape your data either using array.reshape(-1, 1) if your data has a single feature or array.reshape(1, -1) if it contains a single sample."
     ],
     "output_type": "error"
    }
   ],
   "source": [
    "from sklearn import linear_model  \n",
    "import numpy as np  \n",
    "from numpy import genfromtxt #可以将非array格式的list转化为array  \n",
    "  \n",
    "datapath = \"week-wti.csv\"  \n",
    "deliverData = genfromtxt(datapath,delimiter=\",\") #将csv文件转化为numpy.array格式  \n",
    "  \n",
    "print(\"data:\",deliverData)  \n",
    "  \n",
    "X= deliverData[1:, 0:8].astype(np.float)\n",
    "Y = deliverData[1:, 8].astype(np.float)\n",
    "print( \"X:\",X  ) \n",
    "print( \"Y:\",Y  ) \n",
    "  \n",
    "regr = linear_model.LinearRegression()  \n",
    "regr.fit(X,Y)  \n",
    "  \n",
    "print( \"coefficients:\",regr.coef_ )       #与X结合的值  \n",
    "print( \"intercept:\",regr.intercept_  )       #类似于截距  \n",
    "  \n",
    "x_pre = [102,6]  \n",
    "y_pre = regr.predict(x_pre)  \n",
    "print( \"Y-Predict:\",y_pre  ) "
   ]
  },
  {
   "cell_type": "code",
   "execution_count": 2,
   "metadata": {},
   "outputs": [],
   "source": [
    "Anaconda\n"
   ]
  },
  {
   "cell_type": "code",
   "execution_count": 3,
   "metadata": {},
   "outputs": [],
   "source": [
    "from pylab import *\n",
    "\n",
    "raw_data = urllib.urlopen(url)\n",
    "# load the CSV file as a numpy matrix\n",
    "dataset = np.loadtxt(raw_data, delimiter=\",\")\n",
    "# separate the data from the target attributes\n",
    "X = dataset[:,0:7]\n",
    "y = dataset[:,8]\n",
    "winequality-white\n",
    "tmp = np.loadtxt(\"train.csv\", dtype=np.str, delimiter=\",\")"
   ]
  },
  {
   "cell_type": "markdown",
   "metadata": {},
   "source": [
    "#headings"
   ]
  },
  {
   "cell_type": "code",
   "execution_count": 27,
   "metadata": {},
   "outputs": [],
   "source": [
    "import numpy as np\n",
    "\n",
    "tmp = np.loadtxt(\"winequality-white.csv\", dtype=np.str, delimiter=\";\")\n",
    "data = tmp[1:,0:11].astype(np.float)#加载数据部分\n",
    "label = tmp[1:,11].astype(np.float)#加载类别标签部分"
   ]
  },
  {
   "cell_type": "code",
   "execution_count": 28,
   "metadata": {},
   "outputs": [
    {
     "data": {
      "text/plain": [
       "(array([[  7.  ,   0.27,   0.36, ...,   3.  ,   0.45,   8.8 ],\n        [  6.3 ,   0.3 ,   0.34, ...,   3.3 ,   0.49,   9.5 ],\n        [  8.1 ,   0.28,   0.4 , ...,   3.26,   0.44,  10.1 ],\n        ..., \n        [  6.5 ,   0.24,   0.19, ...,   2.99,   0.46,   9.4 ],\n        [  5.5 ,   0.29,   0.3 , ...,   3.34,   0.38,  12.8 ],\n        [  6.  ,   0.21,   0.38, ...,   3.26,   0.32,  11.8 ]]),\n array([ 6.,  6.,  6., ...,  6.,  7.,  6.]))"
      ]
     },
     "execution_count": 28,
     "metadata": {},
     "output_type": "execute_result"
    }
   ],
   "source": [
    "data,label"
   ]
  },
  {
   "cell_type": "code",
   "execution_count": 9,
   "metadata": {
    "collapsed": true
   },
   "outputs": [
    {
     "ename": "UnicodeDecodeError",
     "evalue": "'ascii' codec can't decode byte 0x90 in position 614: ordinal not in range(128)",
     "traceback": [
      "\u001b[1;31m---------------------------------------------------------------------------\u001b[0m",
      "\u001b[1;31mUnicodeDecodeError\u001b[0m                        Traceback (most recent call last)",
      "\u001b[1;32m<ipython-input-9-3f74c1e0f3ec>\u001b[0m in \u001b[0;36m<module>\u001b[1;34m()\u001b[0m\n\u001b[0;32m    117\u001b[0m     \u001b[0mprint\u001b[0m\u001b[1;33m\u001b[0m\u001b[0m\n\u001b[0;32m    118\u001b[0m     \u001b[1;34m'reading training and testing data...'\u001b[0m\u001b[1;33m\u001b[0m\u001b[0m\n\u001b[1;32m--> 119\u001b[1;33m     \u001b[0mtrain_x\u001b[0m\u001b[1;33m,\u001b[0m \u001b[0mtrain_y\u001b[0m\u001b[1;33m,\u001b[0m \u001b[0mtest_x\u001b[0m\u001b[1;33m,\u001b[0m \u001b[0mtest_y\u001b[0m \u001b[1;33m=\u001b[0m \u001b[0mread_data\u001b[0m\u001b[1;33m(\u001b[0m\u001b[0mdata_file\u001b[0m\u001b[1;33m)\u001b[0m\u001b[1;33m\u001b[0m\u001b[0m\n\u001b[0m\u001b[0;32m    120\u001b[0m     \u001b[0mnum_train\u001b[0m\u001b[1;33m,\u001b[0m \u001b[0mnum_feat\u001b[0m \u001b[1;33m=\u001b[0m \u001b[0mtrain_x\u001b[0m\u001b[1;33m.\u001b[0m\u001b[0mshape\u001b[0m\u001b[1;33m\u001b[0m\u001b[0m\n\u001b[0;32m    121\u001b[0m     \u001b[0mnum_test\u001b[0m\u001b[1;33m,\u001b[0m \u001b[0mnum_feat\u001b[0m \u001b[1;33m=\u001b[0m \u001b[0mtest_x\u001b[0m\u001b[1;33m.\u001b[0m\u001b[0mshape\u001b[0m\u001b[1;33m\u001b[0m\u001b[0m\n",
      "\u001b[1;32m<ipython-input-9-3f74c1e0f3ec>\u001b[0m in \u001b[0;36mread_data\u001b[1;34m(data_file)\u001b[0m\n\u001b[0;32m     89\u001b[0m     \u001b[1;32mimport\u001b[0m \u001b[0mgzip\u001b[0m\u001b[1;33m\u001b[0m\u001b[0m\n\u001b[0;32m     90\u001b[0m     \u001b[0mf\u001b[0m \u001b[1;33m=\u001b[0m \u001b[0mgzip\u001b[0m\u001b[1;33m.\u001b[0m\u001b[0mopen\u001b[0m\u001b[1;33m(\u001b[0m\u001b[0mdata_file\u001b[0m\u001b[1;33m,\u001b[0m \u001b[1;34m\"rb\"\u001b[0m\u001b[1;33m)\u001b[0m\u001b[1;33m\u001b[0m\u001b[0m\n\u001b[1;32m---> 91\u001b[1;33m     \u001b[0mtrain\u001b[0m\u001b[1;33m,\u001b[0m \u001b[0mval\u001b[0m\u001b[1;33m,\u001b[0m \u001b[0mtest\u001b[0m \u001b[1;33m=\u001b[0m \u001b[0mpickle\u001b[0m\u001b[1;33m.\u001b[0m\u001b[0mload\u001b[0m\u001b[1;33m(\u001b[0m\u001b[0mf\u001b[0m\u001b[1;33m)\u001b[0m\u001b[1;33m\u001b[0m\u001b[0m\n\u001b[0m\u001b[0;32m     92\u001b[0m     \u001b[0mf\u001b[0m\u001b[1;33m.\u001b[0m\u001b[0mclose\u001b[0m\u001b[1;33m(\u001b[0m\u001b[1;33m)\u001b[0m\u001b[1;33m\u001b[0m\u001b[0m\n\u001b[0;32m     93\u001b[0m     \u001b[0mtrain_x\u001b[0m \u001b[1;33m=\u001b[0m \u001b[0mtrain\u001b[0m\u001b[1;33m[\u001b[0m\u001b[1;36m0\u001b[0m\u001b[1;33m]\u001b[0m\u001b[1;33m\u001b[0m\u001b[0m\n",
      "\u001b[1;31mUnicodeDecodeError\u001b[0m: 'ascii' codec can't decode byte 0x90 in position 614: ordinal not in range(128)"
     ],
     "output_type": "error"
    }
   ],
   "source": [
    "# -*- coding: utf-8 -*-\n",
    "\n",
    "import time\n",
    "from sklearn import metrics\n",
    "import numpy as np\n",
    "import pickle as pickle\n",
    "\n",
    "#importlib.reload(sys)\n",
    "#sys.setdefaultencoding('utf8')\n",
    "\n",
    "\n",
    "# Multinomial Naive Bayes Classifier\n",
    "def naive_bayes_classifier(train_x, train_y):\n",
    "    from sklearn.naive_bayes import MultinomialNB\n",
    "    model = MultinomialNB(alpha=0.01)\n",
    "    model.fit(train_x, train_y)\n",
    "    return model\n",
    "\n",
    "\n",
    "# KNN Classifier\n",
    "def knn_classifier(train_x, train_y):\n",
    "    from sklearn.neighbors import KNeighborsClassifier\n",
    "    model = KNeighborsClassifier()\n",
    "    model.fit(train_x, train_y)\n",
    "    return model\n",
    "\n",
    "\n",
    "# Logistic Regression Classifier\n",
    "def logistic_regression_classifier(train_x, train_y):\n",
    "    from sklearn.linear_model import LogisticRegression\n",
    "    model = LogisticRegression(penalty='l2')\n",
    "    model.fit(train_x, train_y)\n",
    "    return model\n",
    "\n",
    "\n",
    "# Random Forest Classifier\n",
    "def random_forest_classifier(train_x, train_y):\n",
    "    from sklearn.ensemble import RandomForestClassifier\n",
    "    model = RandomForestClassifier(n_estimators=8)\n",
    "    model.fit(train_x, train_y)\n",
    "    return model\n",
    "\n",
    "\n",
    "# Decision Tree Classifier\n",
    "def decision_tree_classifier(train_x, train_y):\n",
    "    from sklearn import tree\n",
    "    model = tree.DecisionTreeClassifier()\n",
    "    model.fit(train_x, train_y)\n",
    "    return model\n",
    "\n",
    "\n",
    "# GBDT(Gradient Boosting Decision Tree) Classifier\n",
    "def gradient_boosting_classifier(train_x, train_y):\n",
    "    from sklearn.ensemble import GradientBoostingClassifier\n",
    "    model = GradientBoostingClassifier(n_estimators=200)\n",
    "    model.fit(train_x, train_y)\n",
    "    return model\n",
    "\n",
    "\n",
    "# SVM Classifier\n",
    "def svm_classifier(train_x, train_y):\n",
    "    from sklearn.svm import SVC\n",
    "    model = SVC(kernel='rbf', probability=True)\n",
    "    model.fit(train_x, train_y)\n",
    "    return model\n",
    "\n",
    "\n",
    "# SVM Classifier using cross validation\n",
    "def svm_cross_validation(train_x, train_y):\n",
    "    from sklearn.grid_search import GridSearchCV\n",
    "    from sklearn.svm import SVC\n",
    "    model = SVC(kernel='rbf', probability=True)\n",
    "    param_grid = {'C': [1e-3, 1e-2, 1e-1, 1, 10, 100, 1000], 'gamma': [0.001, 0.0001]}\n",
    "    grid_search = GridSearchCV(model, param_grid, n_jobs=1, verbose=1)\n",
    "    grid_search.fit(train_x, train_y)\n",
    "    best_parameters = grid_search.best_estimator_.get_params()\n",
    "    for para, val in best_parameters.items():\n",
    "        print\n",
    "        para, val\n",
    "    model = SVC(kernel='rbf', C=best_parameters['C'], gamma=best_parameters['gamma'], probability=True)\n",
    "    model.fit(train_x, train_y)\n",
    "    return model\n",
    "\n",
    "\n",
    "def read_data(data_file):\n",
    "    import gzip\n",
    "    f = gzip.open(data_file, \"rb\")\n",
    "    train, val, test = pickle.load(f)\n",
    "    f.close()\n",
    "    train_x = train[0]\n",
    "    train_y = train[1]\n",
    "    test_x = test[0]\n",
    "    test_y = test[1]\n",
    "    return train_x, train_y, test_x, test_y\n",
    "\n",
    "\n",
    "if __name__ == '__main__':\n",
    "    data_file = \"mnist.pkl.gz\"\n",
    "    thresh = 0.5\n",
    "    model_save_file = None\n",
    "    model_save = {}\n",
    "\n",
    "    test_classifiers = ['NB', 'KNN', 'LR', 'RF', 'DT', 'SVM', 'GBDT']\n",
    "    classifiers = {'NB': naive_bayes_classifier,\n",
    "                   'KNN': knn_classifier,\n",
    "                   'LR': logistic_regression_classifier,\n",
    "                   'RF': random_forest_classifier,\n",
    "                   'DT': decision_tree_classifier,\n",
    "                   'SVM': svm_classifier,\n",
    "                   'SVMCV': svm_cross_validation,\n",
    "                   'GBDT': gradient_boosting_classifier\n",
    "                   }\n",
    "\n",
    "    print\n",
    "    'reading training and testing data...'\n",
    "    train_x, train_y, test_x, test_y = read_data(data_file)\n",
    "    num_train, num_feat = train_x.shape\n",
    "    num_test, num_feat = test_x.shape\n",
    "    is_binary_class = (len(np.unique(train_y)) == 2)\n",
    "    print\n",
    "    '******************** Data Info *********************'\n",
    "    print\n",
    "    '#training data: %d, #testing_data: %d, dimension: %d' % (num_train, num_test, num_feat)\n",
    "\n",
    "    for classifier in test_classifiers:\n",
    "        print\n",
    "        '******************* %s ********************' % classifier\n",
    "        start_time = time.time()\n",
    "        model = classifiers[classifier](train_x, train_y)\n",
    "        print\n",
    "        'training took %fs!' % (time.time() - start_time)\n",
    "        predict = model.predict(test_x)\n",
    "        if model_save_file != None:\n",
    "            model_save[classifier] = model\n",
    "        if is_binary_class:\n",
    "            precision = metrics.precision_score(test_y, predict)\n",
    "            recall = metrics.recall_score(test_y, predict)\n",
    "            print\n",
    "            'precision: %.2f%%, recall: %.2f%%' % (100 * precision, 100 * recall)\n",
    "        accuracy = metrics.accuracy_score(test_y, predict)\n",
    "        print\n",
    "        'accuracy: %.2f%%' % (100 * accuracy)\n",
    "\n",
    "    if model_save_file != None:\n",
    "        pickle.dump(model_save, open(model_save_file, 'wb'))\n"
   ]
  },
  {
   "cell_type": "code",
   "execution_count": 3,
   "metadata": {},
   "outputs": [
    {
     "name": "stdout",
     "output_type": "stream",
     "text": [
      "Automatically created module for IPython interactive environment\n"
     ]
    },
    {
     "name": "stdout",
     "output_type": "stream",
     "text": [
      "Sparsity with L1 penalty: 80.29%\nTest score with L1 penalty: 0.8362\n"
     ]
    },
    {
     "name": "stdout",
     "output_type": "stream",
     "text": [
      "Example run in 7.441 s\n"
     ]
    },
    {
     "data": {
      "image/png": "[encoded data removed]",
      "text/plain": [
       "<matplotlib.figure.Figure at 0x1db856ef518>"
      ]
     },
     "metadata": {},
     "output_type": "display_data"
    }
   ],
   "source": [
    "import time\n",
    "import matplotlib.pyplot as plt\n",
    "import numpy as np\n",
    "\n",
    "from sklearn.datasets import fetch_mldata\n",
    "from sklearn.linear_model import LogisticRegression\n",
    "from sklearn.model_selection import train_test_split\n",
    "from sklearn.preprocessing import StandardScaler\n",
    "from sklearn.utils import check_random_state\n",
    "\n",
    "print(__doc__)\n",
    "\n",
    "# Author: Arthur Mensch <arthur.mensch@m4x.org>\n",
    "# License: BSD 3 clause\n",
    "\n",
    "# Turn down for faster convergence\n",
    "t0 = time.time()\n",
    "train_samples = 5000\n",
    "\n",
    "mnist = fetch_mldata('MNIST original')\n",
    "X = mnist.data.astype('float64')\n",
    "y = mnist.target\n",
    "random_state = check_random_state(0)\n",
    "permutation = random_state.permutation(X.shape[0]) \n",
    "X = X[permutation] #将样本进行随机排列\n",
    "y = y[permutation]\n",
    "X = X.reshape((X.shape[0], -1)) #-1表示自动推测维度\n",
    "\n",
    "X_train, X_test, y_train, y_test = train_test_split(\n",
    "    X, y, train_size=train_samples, test_size=10000)\n",
    "\n",
    "scaler = StandardScaler()\n",
    "X_train = scaler.fit_transform(X_train) #使用训练数据的均值方差对训练数据进行标准化\n",
    "X_test = scaler.transform(X_test) #使用训练数据的均值方差对测试数据进行标准化\n",
    "\n",
    "# Turn up tolerance for faster convergence\n",
    "clf = LogisticRegression(C=50. / train_samples,\n",
    "                         multi_class='multinomial',\n",
    "                         penalty='l1', solver='saga', tol=0.1)\n",
    "clf.fit(X_train, y_train)\n",
    "sparsity = np.mean(clf.coef_ == 0) * 100  #决定方程中考虑类别时不相关因素的占比，不同类别做平均\n",
    "score = clf.score(X_test, y_test)  #测试集上的平均准确率\n",
    "# print('Best C % .4f' % clf.C_)\n",
    "print(\"Sparsity with L1 penalty: %.2f%%\" % sparsity)\n",
    "print(\"Test score with L1 penalty: %.4f\" % score)\n",
    "\n",
    "coef = clf.coef_.copy()\n",
    "plt.figure(figsize=(10, 5))\n",
    "scale = np.abs(coef).max()\n",
    "for i in range(10):\n",
    "    l1_plot = plt.subplot(2, 5, i + 1)\n",
    "    l1_plot.imshow(coef[i].reshape(28, 28), interpolation='nearest',\n",
    "                   cmap=plt.cm.RdBu, vmin=-scale, vmax=scale)\n",
    "    l1_plot.set_xticks(())\n",
    "    l1_plot.set_yticks(())\n",
    "    l1_plot.set_xlabel('Class %i' % i)\n",
    "plt.suptitle('Classification vector for...')\n",
    "\n",
    "run_time = time.time() - t0\n",
    "print('Example run in %.3f s' % run_time)\n",
    "plt.show()"
   ]
  },
  {
   "cell_type": "code",
   "execution_count": 11,
   "metadata": {},
   "outputs": [
    {
     "data": {
      "text/plain": [
       "(70000, 784)"
      ]
     },
     "execution_count": 11,
     "metadata": {},
     "output_type": "execute_result"
    }
   ],
   "source": [
    "mnist.data.astype('float64').shape"
   ]
  },
  {
   "cell_type": "code",
   "execution_count": 6,
   "metadata": {},
   "outputs": [
    {
     "data": {
      "text/plain": [
       "array([ 0.,  0.,  0., ...,  9.,  9.,  9.])"
      ]
     },
     "execution_count": 6,
     "metadata": {},
     "output_type": "execute_result"
    }
   ],
   "source": [
    "mnist.target"
   ]
  },
  {
   "cell_type": "code",
   "execution_count": 7,
   "metadata": {},
   "outputs": [
    {
     "data": {
      "text/plain": [
       "<mtrand.RandomState at 0x1db85688d80>"
      ]
     },
     "execution_count": 7,
     "metadata": {},
     "output_type": "execute_result"
    }
   ],
   "source": [
    "check_random_state(0)"
   ]
  },
  {
   "cell_type": "code",
   "execution_count": 8,
   "metadata": {},
   "outputs": [
    {
     "data": {
      "text/plain": [
       "70000"
      ]
     },
     "execution_count": 8,
     "metadata": {},
     "output_type": "execute_result"
    }
   ],
   "source": [
    "X.shape[0]"
   ]
  },
  {
   "cell_type": "code",
   "execution_count": 22,
   "metadata": {},
   "outputs": [
    {
     "data": {
      "text/plain": [
       "0.84948979591836737"
      ]
     },
     "execution_count": 22,
     "metadata": {},
     "output_type": "execute_result"
    }
   ],
   "source": [
    "np.mean(clf.coef_[1] ==0)"
   ]
  },
  {
   "cell_type": "code",
   "execution_count": 10,
   "metadata": {},
   "outputs": [
    {
     "data": {
      "text/plain": [
       "(70000, 784)"
      ]
     },
     "execution_count": 10,
     "metadata": {},
     "output_type": "execute_result"
    }
   ],
   "source": [
    "X.shape"
   ]
  },
  {
   "cell_type": "code",
   "execution_count": 11,
   "metadata": {},
   "outputs": [
    {
     "name": "stdout",
     "output_type": "stream",
     "text": [
      "Automatically created module for IPython interactive environment\n"
     ]
    }
   ],
   "source": [
    "import time\n",
    "import matplotlib.pyplot as plt\n",
    "import numpy as np\n",
    "\n",
    "from sklearn.datasets import fetch_mldata\n",
    "from sklearn.linear_model import LogisticRegression\n",
    "from sklearn.model_selection import train_test_split\n",
    "from sklearn.preprocessing import StandardScaler\n",
    "from sklearn.utils import check_random_state\n",
    "\n",
    "print(__doc__)\n",
    "\n",
    "# Author: Arthur Mensch <arthur.mensch@m4x.org>\n",
    "# License: BSD 3 clause\n",
    "\n",
    "# Turn down for faster convergence\n",
    "t0 = time.time()\n",
    "train_samples = 4898*0.6\n",
    "\n",
    "tmp = np.loadtxt(\"winequality-white.csv\", dtype=np.str, delimiter=\";\")\n",
    "X = tmp[1:,0:11].astype(np.float)#加载数据部分\n",
    "y = tmp[1:,11].astype(np.float)#加载类别标签部分\n",
    "\n",
    "random_state = check_random_state(0)       #将样本进行随机排列\n",
    "permutation = random_state.permutation(X.shape[0])\n",
    "X = X[permutation]\n",
    "y = y[permutation]\n",
    "X = X.reshape((X.shape[0], -1))\n",
    "\n",
    "X_train, X_test, y_train, y_test = train_test_split(\n",
    "    X, y, test_size=0.2)\n",
    "\n",
    "scaler = StandardScaler()\n",
    "X_train = scaler.fit_transform(X_train)#使用训练数据的均值方差对训练数据进行标准化\n",
    "X_test = scaler.transform(X_test)\n",
    "\n"
   ]
  },
  {
   "cell_type": "code",
   "execution_count": 41,
   "metadata": {},
   "outputs": [
    {
     "name": "stdout",
     "output_type": "stream",
     "text": [
      "Test score with L1 penalty: 0.5112\nExample run in 911.910 s\n"
     ]
    }
   ],
   "source": [
    "# Turn up tolerance for faster convergence\n",
    "clf = LogisticRegression(C=50. / train_samples,\n",
    "                         multi_class='ovr',\n",
    "                         penalty='l1', solver='saga', tol=0.0001)\n",
    "clf.fit(X_train, y_train)\n",
    "#sparsity = np.mean(clf.coef_ == 0) * 100\n",
    "score = clf.score(X_test, y_test)\n",
    "# print('Best C % .4f' % clf.C_)\n",
    "#print(\"Sparsity with L1 penalty: %.2f%%\" % sparsity)\n",
    "print(\"Test score with L1 penalty: %.4f\" % score)\n",
    "\n",
    "\n",
    "run_time = time.time() - t0\n",
    "print('Example run in %.3f s' % run_time)"
   ]
  },
  {
   "cell_type": "code",
   "execution_count": 33,
   "metadata": {},
   "outputs": [
    {
     "name": "stdout",
     "output_type": "stream",
     "text": [
      "Mean squared error: 0.61\nVariance score: 0.27\nExample run in 644.264 s\n"
     ]
    }
   ],
   "source": [
    "from sklearn import datasets, linear_model\n",
    "from sklearn.metrics import mean_squared_error, r2_score\n",
    "\n",
    "regr= linear_model.LinearRegression()\n",
    "regr.fit(X_train, y_train)\n",
    "y_pred =  regr.predict(X_test)\n",
    "\n",
    "# The mean squared error\n",
    "print(\"Mean squared error: %.2f\"\n",
    "      % mean_squared_error(y_test, y_pred))\n",
    "# Explained variance score: 1 is perfect prediction\n",
    "print('Variance score: %.2f' % r2_score(y_test, y_pred))\n",
    "\n",
    "run_time = time.time() - t0\n",
    "print('Example run in %.3f s' % run_time)"
   ]
  },
  {
   "cell_type": "code",
   "execution_count": 12,
   "metadata": {},
   "outputs": [
    {
     "ename": "KeyboardInterrupt",
     "evalue": "",
     "traceback": [
      "\u001b[1;31m---------------------------------------------------------------------------\u001b[0m",
      "\u001b[1;31mKeyboardInterrupt\u001b[0m                         Traceback (most recent call last)",
      "\u001b[1;32m<ipython-input-12-7272d423b0ff>\u001b[0m in \u001b[0;36m<module>\u001b[1;34m()\u001b[0m\n\u001b[0;32m      6\u001b[0m \u001b[0msvr_poly\u001b[0m \u001b[1;33m=\u001b[0m \u001b[0mSVR\u001b[0m\u001b[1;33m(\u001b[0m\u001b[0mkernel\u001b[0m\u001b[1;33m=\u001b[0m\u001b[1;34m'poly'\u001b[0m\u001b[1;33m,\u001b[0m \u001b[0mC\u001b[0m\u001b[1;33m=\u001b[0m\u001b[1;36m1e3\u001b[0m\u001b[1;33m,\u001b[0m \u001b[0mdegree\u001b[0m\u001b[1;33m=\u001b[0m\u001b[1;36m2\u001b[0m\u001b[1;33m)\u001b[0m\u001b[1;33m\u001b[0m\u001b[0m\n\u001b[0;32m      7\u001b[0m \u001b[0my_rbf\u001b[0m \u001b[1;33m=\u001b[0m \u001b[0msvr_rbf\u001b[0m\u001b[1;33m.\u001b[0m\u001b[0mfit\u001b[0m\u001b[1;33m(\u001b[0m\u001b[0mX_train\u001b[0m\u001b[1;33m,\u001b[0m \u001b[0my_train\u001b[0m\u001b[1;33m)\u001b[0m\u001b[1;33m.\u001b[0m\u001b[0mpredict\u001b[0m\u001b[1;33m(\u001b[0m\u001b[0mX_test\u001b[0m\u001b[1;33m)\u001b[0m\u001b[1;33m\u001b[0m\u001b[0m\n\u001b[1;32m----> 8\u001b[1;33m \u001b[0my_lin\u001b[0m \u001b[1;33m=\u001b[0m \u001b[0msvr_lin\u001b[0m\u001b[1;33m.\u001b[0m\u001b[0mfit\u001b[0m\u001b[1;33m(\u001b[0m\u001b[0mX_train\u001b[0m\u001b[1;33m,\u001b[0m \u001b[0my_train\u001b[0m\u001b[1;33m)\u001b[0m\u001b[1;33m.\u001b[0m\u001b[0mpredict\u001b[0m\u001b[1;33m(\u001b[0m\u001b[0mX_test\u001b[0m\u001b[1;33m)\u001b[0m\u001b[1;33m\u001b[0m\u001b[0m\n\u001b[0m\u001b[0;32m      9\u001b[0m \u001b[0my_poly\u001b[0m \u001b[1;33m=\u001b[0m \u001b[0msvr_poly\u001b[0m\u001b[1;33m.\u001b[0m\u001b[0mfit\u001b[0m\u001b[1;33m(\u001b[0m\u001b[0mX_train\u001b[0m\u001b[1;33m,\u001b[0m \u001b[0my_train\u001b[0m\u001b[1;33m)\u001b[0m\u001b[1;33m.\u001b[0m\u001b[0mpredict\u001b[0m\u001b[1;33m(\u001b[0m\u001b[0mX_test\u001b[0m\u001b[1;33m)\u001b[0m\u001b[1;33m\u001b[0m\u001b[0m\n\u001b[0;32m     10\u001b[0m \u001b[0mprint\u001b[0m\u001b[1;33m(\u001b[0m\u001b[1;34m\"啊啊啊rbf score: %.4f\"\u001b[0m \u001b[1;33m%\u001b[0m \u001b[0msvr_rbf\u001b[0m\u001b[1;33m.\u001b[0m\u001b[0mscore\u001b[0m\u001b[1;33m(\u001b[0m\u001b[0mX_test\u001b[0m\u001b[1;33m,\u001b[0m \u001b[0my_test\u001b[0m\u001b[1;33m)\u001b[0m\u001b[1;33m)\u001b[0m\u001b[1;33m\u001b[0m\u001b[0m\n",
      "\u001b[1;32mD:\\Applications\\anaconda\\lib\\site-packages\\sklearn\\svm\\base.py\u001b[0m in \u001b[0;36mfit\u001b[1;34m(self, X, y, sample_weight)\u001b[0m\n\u001b[0;32m    185\u001b[0m \u001b[1;33m\u001b[0m\u001b[0m\n\u001b[0;32m    186\u001b[0m         \u001b[0mseed\u001b[0m \u001b[1;33m=\u001b[0m \u001b[0mrnd\u001b[0m\u001b[1;33m.\u001b[0m\u001b[0mrandint\u001b[0m\u001b[1;33m(\u001b[0m\u001b[0mnp\u001b[0m\u001b[1;33m.\u001b[0m\u001b[0miinfo\u001b[0m\u001b[1;33m(\u001b[0m\u001b[1;34m'i'\u001b[0m\u001b[1;33m)\u001b[0m\u001b[1;33m.\u001b[0m\u001b[0mmax\u001b[0m\u001b[1;33m)\u001b[0m\u001b[1;33m\u001b[0m\u001b[0m\n\u001b[1;32m--> 187\u001b[1;33m         \u001b[0mfit\u001b[0m\u001b[1;33m(\u001b[0m\u001b[0mX\u001b[0m\u001b[1;33m,\u001b[0m \u001b[0my\u001b[0m\u001b[1;33m,\u001b[0m \u001b[0msample_weight\u001b[0m\u001b[1;33m,\u001b[0m \u001b[0msolver_type\u001b[0m\u001b[1;33m,\u001b[0m \u001b[0mkernel\u001b[0m\u001b[1;33m,\u001b[0m \u001b[0mrandom_seed\u001b[0m\u001b[1;33m=\u001b[0m\u001b[0mseed\u001b[0m\u001b[1;33m)\u001b[0m\u001b[1;33m\u001b[0m\u001b[0m\n\u001b[0m\u001b[0;32m    188\u001b[0m         \u001b[1;31m# see comment on the other call to np.iinfo in this file\u001b[0m\u001b[1;33m\u001b[0m\u001b[1;33m\u001b[0m\u001b[0m\n\u001b[0;32m    189\u001b[0m \u001b[1;33m\u001b[0m\u001b[0m\n",
      "\u001b[1;32mD:\\Applications\\anaconda\\lib\\site-packages\\sklearn\\svm\\base.py\u001b[0m in \u001b[0;36m_dense_fit\u001b[1;34m(self, X, y, sample_weight, solver_type, kernel, random_seed)\u001b[0m\n\u001b[0;32m    252\u001b[0m                 \u001b[0mcache_size\u001b[0m\u001b[1;33m=\u001b[0m\u001b[0mself\u001b[0m\u001b[1;33m.\u001b[0m\u001b[0mcache_size\u001b[0m\u001b[1;33m,\u001b[0m \u001b[0mcoef0\u001b[0m\u001b[1;33m=\u001b[0m\u001b[0mself\u001b[0m\u001b[1;33m.\u001b[0m\u001b[0mcoef0\u001b[0m\u001b[1;33m,\u001b[0m\u001b[1;33m\u001b[0m\u001b[0m\n\u001b[0;32m    253\u001b[0m                 \u001b[0mgamma\u001b[0m\u001b[1;33m=\u001b[0m\u001b[0mself\u001b[0m\u001b[1;33m.\u001b[0m\u001b[0m_gamma\u001b[0m\u001b[1;33m,\u001b[0m \u001b[0mepsilon\u001b[0m\u001b[1;33m=\u001b[0m\u001b[0mself\u001b[0m\u001b[1;33m.\u001b[0m\u001b[0mepsilon\u001b[0m\u001b[1;33m,\u001b[0m\u001b[1;33m\u001b[0m\u001b[0m\n\u001b[1;32m--> 254\u001b[1;33m                 max_iter=self.max_iter, random_seed=random_seed)\n\u001b[0m\u001b[0;32m    255\u001b[0m \u001b[1;33m\u001b[0m\u001b[0m\n\u001b[0;32m    256\u001b[0m         \u001b[0mself\u001b[0m\u001b[1;33m.\u001b[0m\u001b[0m_warn_from_fit_status\u001b[0m\u001b[1;33m(\u001b[0m\u001b[1;33m)\u001b[0m\u001b[1;33m\u001b[0m\u001b[0m\n",
      "\u001b[1;31mKeyboardInterrupt\u001b[0m: "
     ],
     "output_type": "error"
    }
   ],
   "source": [
    "from sklearn.svm import SVR\n",
    "\n",
    "# Fit regression model\n",
    "svr_rbf = SVR(kernel='rbf', C=1e3, gamma=0.1)\n",
    "svr_lin = SVR(kernel='linear', C=1e3)\n",
    "svr_poly = SVR(kernel='poly', C=1e3, degree=2)\n",
    "y_rbf = svr_rbf.fit(X_train, y_train).predict(X_test)\n",
    "y_lin = svr_lin.fit(X_train, y_train).predict(X_test)\n",
    "y_poly = svr_poly.fit(X_train, y_train).predict(X_test)\n",
    "print(\"啊啊啊rbf score: %.4f\" % svr_rbf.score(X_test, y_test))\n",
    "print(\"lin score: %.4f\" % svr_lin.score(X_test, y_test))\n",
    "print(\"poly score: %.4f\" % svr_poly.score(X_test, y_test))"
   ]
  },
  {
   "cell_type": "code",
   "execution_count": null,
   "metadata": {},
   "outputs": [],
   "source": [
    "print(\"啊啊啊\")"
   ]
  }
 ],
 "metadata": {
  "kernelspec": {
   "display_name": "Python 2",
   "language": "python",
   "name": "python2"
  },
  "language_info": {
   "codemirror_mode": {
    "name": "ipython",
    "version": 2
   },
   "file_extension": ".py",
   "mimetype": "text/x-python",
   "name": "python",
   "nbconvert_exporter": "python",
   "pygments_lexer": "ipython2",
   "version": "2.7.6"
  }
 },
 "nbformat": 4,
 "nbformat_minor": 0
}
